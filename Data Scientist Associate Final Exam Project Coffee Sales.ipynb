{
 "cells": [
  {
   "cell_type": "markdown",
   "id": "0bc4d3fc-7453-4248-bcd9-cc015b90f77a",
   "metadata": {
    "tags": []
   },
   "source": [
    "# Data Scientist Associate \n",
    "## Example Practical Exam Solution\n",
    "\n",
    "You can find the project information that accompanies this example solution in the resource center, [Practical Exam Resources](https://app.datacamp.com/certification/resource-center/practical-exam-resources).\n",
    "\n",
    "Use this template to complete your analysis and write up your summary for submission.\n"
   ]
  },
  {
   "cell_type": "markdown",
   "id": "840af83a-68f0-46c0-bbe9-51d646b81532",
   "metadata": {
    "tags": []
   },
   "source": [
    "## Data Validation\n",
    "\n",
    "The dataset contains **200 rows and 9 columns** with missing values before cleaning. I have validated all the columns against the criteria in the dataset table:\n",
    " - Region: Same as description without missing values, 10 Regions.\n",
    " - Place name: Same as description without missing values.\n",
    " - Rating: 2 missing values, so I decided to remove the missing values.\n",
    " - Enough Reviews: Same as description without missing values.\n",
    " - Price: Same as description without missing values, 3 categories.\n",
    " - Delivery option: Same as description without missing values.\n",
    " - Dine in option: 50+ missing values, so I replace missing values with 'False', and convert it into boolean data type.\n",
    " - Take out option: 50+ missing values, so I replace missing values with 'False',and convert it into boolean data type.\n",
    " \n",
    "After the data validation, the dataset contains **198 rows and 9 columns.**\n",
    " "
   ]
  },
  {
   "cell_type": "markdown",
   "id": "e3f89579-9326-44e5-88e7-e2bef893e4ef",
   "metadata": {},
   "source": [
    "### Original Dataset"
   ]
  },
  {
   "cell_type": "code",
   "execution_count": 7,
   "id": "d0eb4f16-5a99-460d-a5ba-706b7ef0bbe7",
   "metadata": {
    "executionTime": 24,
    "id": "bA5ajAmk7XH6",
    "jupyter": {
     "outputs_hidden": false,
     "source_hidden": false
    },
    "lastSuccessfullyExecutedCode": "# Data Validation\n# Check all variables in the data against the criteria in the dataset above\n\nimport pandas as pd\nimport matplotlib.pyplot as plt\nimport matplotlib.style as style\nimport seaborn as sns\nimport numpy as np\ndf = pd.read_csv('data/coffee.csv')\ndf.info()"
   },
   "outputs": [
    {
     "name": "stdout",
     "output_type": "stream",
     "text": [
      "<class 'pandas.core.frame.DataFrame'>\n",
      "RangeIndex: 200 entries, 0 to 199\n",
      "Data columns (total 9 columns):\n",
      " #   Column           Non-Null Count  Dtype  \n",
      "---  ------           --------------  -----  \n",
      " 0   Region           200 non-null    object \n",
      " 1   Place name       200 non-null    object \n",
      " 2   Place type       200 non-null    object \n",
      " 3   Rating           198 non-null    float64\n",
      " 4   Reviews          198 non-null    float64\n",
      " 5   Price            200 non-null    object \n",
      " 6   Delivery option  200 non-null    bool   \n",
      " 7   Dine in option   140 non-null    object \n",
      " 8   Takeout option   144 non-null    object \n",
      "dtypes: bool(1), float64(2), object(6)\n",
      "memory usage: 12.8+ KB\n"
     ]
    }
   ],
   "source": [
    "# Data Validation\n",
    "# Check all variables in the data against the criteria in the dataset above\n",
    "\n",
    "import pandas as pd\n",
    "import matplotlib.pyplot as plt\n",
    "import matplotlib.style as style\n",
    "import seaborn as sns\n",
    "import numpy as np\n",
    "df = pd.read_csv('coffee.csv')\n",
    "df.info()"
   ]
  },
  {
   "cell_type": "markdown",
   "id": "cecff033-24d4-4f16-98af-583878818a94",
   "metadata": {},
   "source": [
    "### After removing the missing values for Rating and Review columns"
   ]
  },
  {
   "cell_type": "code",
   "execution_count": null,
   "id": "f04bc965-6a3e-4a44-b7ee-640a33ed5475",
   "metadata": {
    "customType": "sql",
    "dataFrameVariableName": "df",
    "initial": false
   },
   "outputs": [],
   "source": []
  },
  {
   "cell_type": "code",
   "execution_count": 8,
   "id": "cc4e8356-975d-444a-8d58-8f12d220b84a",
   "metadata": {
    "executionTime": 23,
    "jupyter": {
     "outputs_hidden": false,
     "source_hidden": false
    },
    "lastSuccessfullyExecutedCode": "df = df.dropna(subset=['Rating'])\ndf.info()"
   },
   "outputs": [
    {
     "name": "stdout",
     "output_type": "stream",
     "text": [
      "<class 'pandas.core.frame.DataFrame'>\n",
      "Int64Index: 198 entries, 0 to 199\n",
      "Data columns (total 9 columns):\n",
      " #   Column           Non-Null Count  Dtype  \n",
      "---  ------           --------------  -----  \n",
      " 0   Region           198 non-null    object \n",
      " 1   Place name       198 non-null    object \n",
      " 2   Place type       198 non-null    object \n",
      " 3   Rating           198 non-null    float64\n",
      " 4   Reviews          198 non-null    float64\n",
      " 5   Price            198 non-null    object \n",
      " 6   Delivery option  198 non-null    bool   \n",
      " 7   Dine in option   140 non-null    object \n",
      " 8   Takeout option   144 non-null    object \n",
      "dtypes: bool(1), float64(2), object(6)\n",
      "memory usage: 14.1+ KB\n"
     ]
    }
   ],
   "source": [
    "df = df.dropna(subset=['Rating'])\n",
    "df.info()"
   ]
  },
  {
   "cell_type": "markdown",
   "id": "8542b5ec-71b6-4ab9-b081-da33166a342b",
   "metadata": {},
   "source": [
    "### After replacing missing values with 'False'"
   ]
  },
  {
   "cell_type": "code",
   "execution_count": 3,
   "id": "287cdbda-a25b-4bf2-bee8-9f9b169759e6",
   "metadata": {
    "executionTime": 23,
    "jupyter": {
     "outputs_hidden": false,
     "source_hidden": false
    },
    "lastSuccessfullyExecutedCode": "df['Dine in option'] = df['Dine in option'].fillna(False)\ndf['Takeout option'] = df['Takeout option'].fillna(False)\ndf['Dine in option'] = df['Dine in option'].astype('bool')\ndf['Takeout option'] = df['Takeout option'].astype('bool')\ndf.info()"
   },
   "outputs": [
    {
     "name": "stdout",
     "output_type": "stream",
     "text": [
      "<class 'pandas.core.frame.DataFrame'>\n",
      "Int64Index: 198 entries, 0 to 199\n",
      "Data columns (total 9 columns):\n",
      " #   Column           Non-Null Count  Dtype  \n",
      "---  ------           --------------  -----  \n",
      " 0   Region           198 non-null    object \n",
      " 1   Place name       198 non-null    object \n",
      " 2   Place type       198 non-null    object \n",
      " 3   Rating           198 non-null    float64\n",
      " 4   Reviews          198 non-null    float64\n",
      " 5   Price            198 non-null    object \n",
      " 6   Delivery option  198 non-null    bool   \n",
      " 7   Dine in option   198 non-null    bool   \n",
      " 8   Takeout option   198 non-null    bool   \n",
      "dtypes: bool(3), float64(2), object(4)\n",
      "memory usage: 11.4+ KB\n"
     ]
    }
   ],
   "source": [
    "df['Dine in option'] = df['Dine in option'].fillna(False)\n",
    "df['Takeout option'] = df['Takeout option'].fillna(False)\n",
    "df['Dine in option'] = df['Dine in option'].astype('bool')\n",
    "df['Takeout option'] = df['Takeout option'].astype('bool')\n",
    "df.info()"
   ]
  },
  {
   "cell_type": "markdown",
   "id": "674a3bd9-f1fa-466e-9755-45cc0afac92d",
   "metadata": {
    "tags": []
   },
   "source": [
    "## Exploratory Analysis\n",
    "\n",
    "From  **Graph 1 distribution of rating**, we see some outliers. Since we don't have a lot of data, we decided not to remove outliers at this point. Enough Reviews variable is our target variable. From **Graph 2**, we can see the proportion of the minority class - True, indicating having enough reviews, is about 37%. Therefore, the imbalanced class issue is mild, so we decided not to address this issue at this point.\n",
    "\n",
    "From **investigating the relationship between the rating and target variable (Graph 3)**, we can see the rating variable might be a good indicator for prediction. Also, from **investigating different options (Graph 4-6)**, we can see the Dine in and Take out options are good indicators for prediction.\n",
    "\n",
    "Finally, to enable model fitting, I have made the following changes:\n",
    "- Remove the Place name column because it has unique values, so we won't use that feature.\n",
    "- Convert all the categorical variables into numeric variables"
   ]
  },
  {
   "cell_type": "code",
   "execution_count": 9,
   "id": "7ece2faf-848f-48d1-8404-d1d12abdaf87",
   "metadata": {
    "executionTime": 522,
    "jupyter": {
     "outputs_hidden": false,
     "source_hidden": false
    },
    "lastSuccessfullyExecutedCode": "# Exploratory Analysis\n# Explore the characteristics of the variables in the data\nstyle.use('ggplot')\nfig, axes = plt.subplots(1,2,figsize=(25,6))\nsns.boxplot(x=df['Rating'],ax=axes[0],color='gray').set(title='Graph 1 The Distribution of Rating')\nsns.countplot(x=df['Enough Reviews'],ax=axes[1],color='gray').set(title='Graph 2 Count of Target Variable - Enough Reviews');"
   },
   "outputs": [
    {
     "data": {
      "image/png": "[encoded data removed]",
      "text/plain": [
       "<Figure size 2500x600 with 2 Axes>"
      ]
     },
     "metadata": {},
     "output_type": "display_data"
    }
   ],
   "source": [
    "# Exploratory Analysis\n",
    "# Explore the characteristics of the variables in the data\n",
    "style.use('ggplot')\n",
    "fig, axes = plt.subplots(1,2,figsize=(25,6))\n",
    "sns.boxplot(x=df['Rating'],ax=axes[0],color='gray').set(title='Graph 1 The Distribution of Rating')\n",
    "sns.countplot(x=df['Reviews'],ax=axes[1],color='gray').set(title='Graph 2 Count of Target Variable - Enough Reviews');"
   ]
  },
  {
   "cell_type": "markdown",
   "id": "a5161ff4-9e10-4b03-90a6-6584ef56ef80",
   "metadata": {},
   "source": [
    "### Inspecting the Rating and Enough Reviews variables"
   ]
  },
  {
   "cell_type": "markdown",
   "id": "81708b03-097b-4abc-9b44-2310deeedc25",
   "metadata": {},
   "source": [
    "### Inspecting the number of categories in categorical variables"
   ]
  },
  {
   "cell_type": "code",
   "execution_count": 10,
   "id": "5275a2db-2d5a-48a2-84db-cfc7f6a48b1a",
   "metadata": {
    "executionTime": 14,
    "jupyter": {
     "outputs_hidden": false,
     "source_hidden": false
    },
    "lastSuccessfullyExecutedCode": "#Inspect the categorical variables\ndf.select_dtypes(['object','bool']).nunique()"
   },
   "outputs": [
    {
     "data": {
      "text/plain": [
       "Region              10\n",
       "Place name         185\n",
       "Place type           4\n",
       "Price                3\n",
       "Delivery option      2\n",
       "Dine in option       1\n",
       "Takeout option       1\n",
       "dtype: int64"
      ]
     },
     "execution_count": 10,
     "metadata": {},
     "output_type": "execute_result"
    }
   ],
   "source": [
    "#Inspect the categorical variables\n",
    "df.select_dtypes(['object','bool']).nunique()"
   ]
  },
  {
   "cell_type": "markdown",
   "id": "0e73ec89-b025-4eb2-9cd9-ffe2b29261d8",
   "metadata": {},
   "source": [
    "### Inspecting the Relationships between Ratings, Options and Target Variable (Enough Reviews)"
   ]
  },
  {
   "cell_type": "code",
   "execution_count": 11,
   "id": "48c4fc82-9f4e-4f6e-a83c-197e022e964c",
   "metadata": {
    "executionTime": 18,
    "lastSuccessfullyExecutedCode": "sns.boxplot(data=df, x='Enough Reviews',y='Rating',linewidth=0.8).set(title='Graph 3 Ratings vs Enough Reviews');"
   },
   "outputs": [
    {
     "ename": "ValueError",
     "evalue": "Could not interpret input 'Enough Reviews'",
     "output_type": "error",
     "traceback": [
      "\u001b[1;31m---------------------------------------------------------------------------\u001b[0m",
      "\u001b[1;31mValueError\u001b[0m                                Traceback (most recent call last)",
      "Cell \u001b[1;32mIn[11], line 1\u001b[0m\n\u001b[1;32m----> 1\u001b[0m \u001b[43msns\u001b[49m\u001b[38;5;241;43m.\u001b[39;49m\u001b[43mboxplot\u001b[49m\u001b[43m(\u001b[49m\u001b[43mdata\u001b[49m\u001b[38;5;241;43m=\u001b[39;49m\u001b[43mdf\u001b[49m\u001b[43m,\u001b[49m\u001b[43m \u001b[49m\u001b[43mx\u001b[49m\u001b[38;5;241;43m=\u001b[39;49m\u001b[38;5;124;43m'\u001b[39;49m\u001b[38;5;124;43mEnough Reviews\u001b[39;49m\u001b[38;5;124;43m'\u001b[39;49m\u001b[43m,\u001b[49m\u001b[43my\u001b[49m\u001b[38;5;241;43m=\u001b[39;49m\u001b[38;5;124;43m'\u001b[39;49m\u001b[38;5;124;43mRating\u001b[39;49m\u001b[38;5;124;43m'\u001b[39;49m\u001b[43m,\u001b[49m\u001b[43mlinewidth\u001b[49m\u001b[38;5;241;43m=\u001b[39;49m\u001b[38;5;241;43m0.8\u001b[39;49m\u001b[43m)\u001b[49m\u001b[38;5;241m.\u001b[39mset(title\u001b[38;5;241m=\u001b[39m\u001b[38;5;124m'\u001b[39m\u001b[38;5;124mGraph 3 Ratings vs Enough Reviews\u001b[39m\u001b[38;5;124m'\u001b[39m)\n",
      "File \u001b[1;32m~\\anaconda3\\lib\\site-packages\\seaborn\\categorical.py:2231\u001b[0m, in \u001b[0;36mboxplot\u001b[1;34m(data, x, y, hue, order, hue_order, orient, color, palette, saturation, width, dodge, fliersize, linewidth, whis, ax, **kwargs)\u001b[0m\n\u001b[0;32m   2224\u001b[0m \u001b[38;5;28;01mdef\u001b[39;00m \u001b[38;5;21mboxplot\u001b[39m(\n\u001b[0;32m   2225\u001b[0m     data\u001b[38;5;241m=\u001b[39m\u001b[38;5;28;01mNone\u001b[39;00m, \u001b[38;5;241m*\u001b[39m, x\u001b[38;5;241m=\u001b[39m\u001b[38;5;28;01mNone\u001b[39;00m, y\u001b[38;5;241m=\u001b[39m\u001b[38;5;28;01mNone\u001b[39;00m, hue\u001b[38;5;241m=\u001b[39m\u001b[38;5;28;01mNone\u001b[39;00m, order\u001b[38;5;241m=\u001b[39m\u001b[38;5;28;01mNone\u001b[39;00m, hue_order\u001b[38;5;241m=\u001b[39m\u001b[38;5;28;01mNone\u001b[39;00m,\n\u001b[0;32m   2226\u001b[0m     orient\u001b[38;5;241m=\u001b[39m\u001b[38;5;28;01mNone\u001b[39;00m, color\u001b[38;5;241m=\u001b[39m\u001b[38;5;28;01mNone\u001b[39;00m, palette\u001b[38;5;241m=\u001b[39m\u001b[38;5;28;01mNone\u001b[39;00m, saturation\u001b[38;5;241m=\u001b[39m\u001b[38;5;241m.75\u001b[39m, width\u001b[38;5;241m=\u001b[39m\u001b[38;5;241m.8\u001b[39m,\n\u001b[0;32m   2227\u001b[0m     dodge\u001b[38;5;241m=\u001b[39m\u001b[38;5;28;01mTrue\u001b[39;00m, fliersize\u001b[38;5;241m=\u001b[39m\u001b[38;5;241m5\u001b[39m, linewidth\u001b[38;5;241m=\u001b[39m\u001b[38;5;28;01mNone\u001b[39;00m, whis\u001b[38;5;241m=\u001b[39m\u001b[38;5;241m1.5\u001b[39m, ax\u001b[38;5;241m=\u001b[39m\u001b[38;5;28;01mNone\u001b[39;00m,\n\u001b[0;32m   2228\u001b[0m     \u001b[38;5;241m*\u001b[39m\u001b[38;5;241m*\u001b[39mkwargs\n\u001b[0;32m   2229\u001b[0m ):\n\u001b[1;32m-> 2231\u001b[0m     plotter \u001b[38;5;241m=\u001b[39m \u001b[43m_BoxPlotter\u001b[49m\u001b[43m(\u001b[49m\u001b[43mx\u001b[49m\u001b[43m,\u001b[49m\u001b[43m \u001b[49m\u001b[43my\u001b[49m\u001b[43m,\u001b[49m\u001b[43m \u001b[49m\u001b[43mhue\u001b[49m\u001b[43m,\u001b[49m\u001b[43m \u001b[49m\u001b[43mdata\u001b[49m\u001b[43m,\u001b[49m\u001b[43m \u001b[49m\u001b[43morder\u001b[49m\u001b[43m,\u001b[49m\u001b[43m \u001b[49m\u001b[43mhue_order\u001b[49m\u001b[43m,\u001b[49m\n\u001b[0;32m   2232\u001b[0m \u001b[43m                          \u001b[49m\u001b[43morient\u001b[49m\u001b[43m,\u001b[49m\u001b[43m \u001b[49m\u001b[43mcolor\u001b[49m\u001b[43m,\u001b[49m\u001b[43m \u001b[49m\u001b[43mpalette\u001b[49m\u001b[43m,\u001b[49m\u001b[43m \u001b[49m\u001b[43msaturation\u001b[49m\u001b[43m,\u001b[49m\n\u001b[0;32m   2233\u001b[0m \u001b[43m                          \u001b[49m\u001b[43mwidth\u001b[49m\u001b[43m,\u001b[49m\u001b[43m \u001b[49m\u001b[43mdodge\u001b[49m\u001b[43m,\u001b[49m\u001b[43m \u001b[49m\u001b[43mfliersize\u001b[49m\u001b[43m,\u001b[49m\u001b[43m \u001b[49m\u001b[43mlinewidth\u001b[49m\u001b[43m)\u001b[49m\n\u001b[0;32m   2235\u001b[0m     \u001b[38;5;28;01mif\u001b[39;00m ax \u001b[38;5;129;01mis\u001b[39;00m \u001b[38;5;28;01mNone\u001b[39;00m:\n\u001b[0;32m   2236\u001b[0m         ax \u001b[38;5;241m=\u001b[39m plt\u001b[38;5;241m.\u001b[39mgca()\n",
      "File \u001b[1;32m~\\anaconda3\\lib\\site-packages\\seaborn\\categorical.py:785\u001b[0m, in \u001b[0;36m_BoxPlotter.__init__\u001b[1;34m(self, x, y, hue, data, order, hue_order, orient, color, palette, saturation, width, dodge, fliersize, linewidth)\u001b[0m\n\u001b[0;32m    781\u001b[0m \u001b[38;5;28;01mdef\u001b[39;00m \u001b[38;5;21m__init__\u001b[39m(\u001b[38;5;28mself\u001b[39m, x, y, hue, data, order, hue_order,\n\u001b[0;32m    782\u001b[0m              orient, color, palette, saturation,\n\u001b[0;32m    783\u001b[0m              width, dodge, fliersize, linewidth):\n\u001b[1;32m--> 785\u001b[0m     \u001b[38;5;28;43mself\u001b[39;49m\u001b[38;5;241;43m.\u001b[39;49m\u001b[43mestablish_variables\u001b[49m\u001b[43m(\u001b[49m\u001b[43mx\u001b[49m\u001b[43m,\u001b[49m\u001b[43m \u001b[49m\u001b[43my\u001b[49m\u001b[43m,\u001b[49m\u001b[43m \u001b[49m\u001b[43mhue\u001b[49m\u001b[43m,\u001b[49m\u001b[43m \u001b[49m\u001b[43mdata\u001b[49m\u001b[43m,\u001b[49m\u001b[43m \u001b[49m\u001b[43morient\u001b[49m\u001b[43m,\u001b[49m\u001b[43m \u001b[49m\u001b[43morder\u001b[49m\u001b[43m,\u001b[49m\u001b[43m \u001b[49m\u001b[43mhue_order\u001b[49m\u001b[43m)\u001b[49m\n\u001b[0;32m    786\u001b[0m     \u001b[38;5;28mself\u001b[39m\u001b[38;5;241m.\u001b[39mestablish_colors(color, palette, saturation)\n\u001b[0;32m    788\u001b[0m     \u001b[38;5;28mself\u001b[39m\u001b[38;5;241m.\u001b[39mdodge \u001b[38;5;241m=\u001b[39m dodge\n",
      "File \u001b[1;32m~\\anaconda3\\lib\\site-packages\\seaborn\\categorical.py:541\u001b[0m, in \u001b[0;36m_CategoricalPlotter.establish_variables\u001b[1;34m(self, x, y, hue, data, orient, order, hue_order, units)\u001b[0m\n\u001b[0;32m    539\u001b[0m     \u001b[38;5;28;01mif\u001b[39;00m \u001b[38;5;28misinstance\u001b[39m(var, \u001b[38;5;28mstr\u001b[39m):\n\u001b[0;32m    540\u001b[0m         err \u001b[38;5;241m=\u001b[39m \u001b[38;5;124mf\u001b[39m\u001b[38;5;124m\"\u001b[39m\u001b[38;5;124mCould not interpret input \u001b[39m\u001b[38;5;124m'\u001b[39m\u001b[38;5;132;01m{\u001b[39;00mvar\u001b[38;5;132;01m}\u001b[39;00m\u001b[38;5;124m'\u001b[39m\u001b[38;5;124m\"\u001b[39m\n\u001b[1;32m--> 541\u001b[0m         \u001b[38;5;28;01mraise\u001b[39;00m \u001b[38;5;167;01mValueError\u001b[39;00m(err)\n\u001b[0;32m    543\u001b[0m \u001b[38;5;66;03m# Figure out the plotting orientation\u001b[39;00m\n\u001b[0;32m    544\u001b[0m orient \u001b[38;5;241m=\u001b[39m infer_orient(\n\u001b[0;32m    545\u001b[0m     x, y, orient, require_numeric\u001b[38;5;241m=\u001b[39m\u001b[38;5;28mself\u001b[39m\u001b[38;5;241m.\u001b[39mrequire_numeric\n\u001b[0;32m    546\u001b[0m )\n",
      "\u001b[1;31mValueError\u001b[0m: Could not interpret input 'Enough Reviews'"
     ]
    }
   ],
   "source": [
    "sns.boxplot(data=df, x='Enough Reviews',y='Rating',linewidth=0.8).set(title='Graph 3 Ratings vs Enough Reviews');"
   ]
  },
  {
   "cell_type": "code",
   "execution_count": null,
   "id": "a171bfff-08dd-42fc-aecc-9fef4860ec67",
   "metadata": {
    "executionTime": 245,
    "jupyter": {
     "outputs_hidden": false,
     "source_hidden": false
    },
    "lastSuccessfullyExecutedCode": "sns.boxplot(data=df, x='Enough Reviews',y='Rating',hue='Delivery option',linewidth=0.8).set(title='Graph 4 Ratings vs Enough Reviews in Delivery Option');"
   },
   "outputs": [],
   "source": [
    "sns.boxplot(data=df, x='Enough Reviews',y='Rating',hue='Delivery option',linewidth=0.8).set(title='Graph 4 Ratings vs Enough Reviews in Delivery Option');"
   ]
  },
  {
   "cell_type": "code",
   "execution_count": null,
   "id": "445bae2d-ba12-4398-91e8-e0f54aecb2cc",
   "metadata": {
    "executionTime": 159,
    "jupyter": {
     "outputs_hidden": false,
     "source_hidden": false
    },
    "lastSuccessfullyExecutedCode": "sns.boxplot(data=df, x='Enough Reviews',y='Rating',hue='Dine in option',linewidth=0.8).set(title='Graph 5 Ratings vs Enough Reviews in Dine in Option');"
   },
   "outputs": [],
   "source": [
    "sns.boxplot(data=df, x='Enough Reviews',y='Rating',hue='Dine in option',linewidth=0.8).set(title='Graph 5 Ratings vs Enough Reviews in Dine in Option');"
   ]
  },
  {
   "cell_type": "code",
   "execution_count": null,
   "id": "7b09447a-2290-4c92-9a53-ad30056d6f04",
   "metadata": {
    "executionTime": 184,
    "jupyter": {
     "outputs_hidden": false,
     "source_hidden": false
    },
    "lastSuccessfullyExecutedCode": "sns.boxplot(data=df, x='Enough Reviews',y='Rating',hue='Takeout option',linewidth=0.8).set(title='Graph 6 Ratings vs Enough Reviews in Takeout Option');"
   },
   "outputs": [],
   "source": [
    "sns.boxplot(data=df, x='Enough Reviews',y='Rating',hue='Takeout option',linewidth=0.8).set(title='Graph 6 Ratings vs Enough Reviews in Takeout Option');"
   ]
  },
  {
   "cell_type": "markdown",
   "id": "c23a7bc1-f226-444b-a714-e03c233af141",
   "metadata": {},
   "source": [
    "### Make changes to enable modeling"
   ]
  },
  {
   "cell_type": "code",
   "execution_count": 12,
   "id": "d432d626-802d-4e0e-ab79-69b850e16274",
   "metadata": {
    "executionTime": 0,
    "jupyter": {
     "outputs_hidden": false,
     "source_hidden": false
    },
    "lastSuccessfullyExecutedCode": "df = df.drop(columns=['Place name'])\ndf.info()"
   },
   "outputs": [
    {
     "name": "stdout",
     "output_type": "stream",
     "text": [
      "<class 'pandas.core.frame.DataFrame'>\n",
      "Int64Index: 198 entries, 0 to 199\n",
      "Data columns (total 8 columns):\n",
      " #   Column           Non-Null Count  Dtype  \n",
      "---  ------           --------------  -----  \n",
      " 0   Region           198 non-null    object \n",
      " 1   Place type       198 non-null    object \n",
      " 2   Rating           198 non-null    float64\n",
      " 3   Reviews          198 non-null    float64\n",
      " 4   Price            198 non-null    object \n",
      " 5   Delivery option  198 non-null    bool   \n",
      " 6   Dine in option   140 non-null    object \n",
      " 7   Takeout option   144 non-null    object \n",
      "dtypes: bool(1), float64(2), object(5)\n",
      "memory usage: 12.6+ KB\n"
     ]
    }
   ],
   "source": [
    "df = df.drop(columns=['Place name'])\n",
    "df.info()"
   ]
  },
  {
   "cell_type": "code",
   "execution_count": 13,
   "id": "b2341e2c-ff96-4ae2-aaff-4fd2361bcdff",
   "metadata": {
    "executionTime": 0,
    "jupyter": {
     "outputs_hidden": false,
     "source_hidden": false
    },
    "lastSuccessfullyExecutedCode": "from sklearn import preprocessing\nfeatures = df.drop(columns='Enough Reviews')\nX = pd.get_dummies(features, columns=['Place type','Price','Region','Delivery option','Dine in option','Takeout option'])\ndf['Enough Reviews'] = df['Enough Reviews'].replace({True:1,False:0})\ny = df['Enough Reviews'] "
   },
   "outputs": [
    {
     "ename": "KeyError",
     "evalue": "\"['Enough Reviews'] not found in axis\"",
     "output_type": "error",
     "traceback": [
      "\u001b[1;31m---------------------------------------------------------------------------\u001b[0m",
      "\u001b[1;31mKeyError\u001b[0m                                  Traceback (most recent call last)",
      "Cell \u001b[1;32mIn[13], line 2\u001b[0m\n\u001b[0;32m      1\u001b[0m \u001b[38;5;28;01mfrom\u001b[39;00m \u001b[38;5;21;01msklearn\u001b[39;00m \u001b[38;5;28;01mimport\u001b[39;00m preprocessing\n\u001b[1;32m----> 2\u001b[0m features \u001b[38;5;241m=\u001b[39m \u001b[43mdf\u001b[49m\u001b[38;5;241;43m.\u001b[39;49m\u001b[43mdrop\u001b[49m\u001b[43m(\u001b[49m\u001b[43mcolumns\u001b[49m\u001b[38;5;241;43m=\u001b[39;49m\u001b[38;5;124;43m'\u001b[39;49m\u001b[38;5;124;43mEnough Reviews\u001b[39;49m\u001b[38;5;124;43m'\u001b[39;49m\u001b[43m)\u001b[49m\n\u001b[0;32m      3\u001b[0m X \u001b[38;5;241m=\u001b[39m pd\u001b[38;5;241m.\u001b[39mget_dummies(features, columns\u001b[38;5;241m=\u001b[39m[\u001b[38;5;124m'\u001b[39m\u001b[38;5;124mPlace type\u001b[39m\u001b[38;5;124m'\u001b[39m,\u001b[38;5;124m'\u001b[39m\u001b[38;5;124mPrice\u001b[39m\u001b[38;5;124m'\u001b[39m,\u001b[38;5;124m'\u001b[39m\u001b[38;5;124mRegion\u001b[39m\u001b[38;5;124m'\u001b[39m,\u001b[38;5;124m'\u001b[39m\u001b[38;5;124mDelivery option\u001b[39m\u001b[38;5;124m'\u001b[39m,\u001b[38;5;124m'\u001b[39m\u001b[38;5;124mDine in option\u001b[39m\u001b[38;5;124m'\u001b[39m,\u001b[38;5;124m'\u001b[39m\u001b[38;5;124mTakeout option\u001b[39m\u001b[38;5;124m'\u001b[39m])\n\u001b[0;32m      4\u001b[0m df[\u001b[38;5;124m'\u001b[39m\u001b[38;5;124mEnough Reviews\u001b[39m\u001b[38;5;124m'\u001b[39m] \u001b[38;5;241m=\u001b[39m df[\u001b[38;5;124m'\u001b[39m\u001b[38;5;124mEnough Reviews\u001b[39m\u001b[38;5;124m'\u001b[39m]\u001b[38;5;241m.\u001b[39mreplace({\u001b[38;5;28;01mTrue\u001b[39;00m:\u001b[38;5;241m1\u001b[39m,\u001b[38;5;28;01mFalse\u001b[39;00m:\u001b[38;5;241m0\u001b[39m})\n",
      "File \u001b[1;32m~\\anaconda3\\lib\\site-packages\\pandas\\util\\_decorators.py:331\u001b[0m, in \u001b[0;36mdeprecate_nonkeyword_arguments.<locals>.decorate.<locals>.wrapper\u001b[1;34m(*args, **kwargs)\u001b[0m\n\u001b[0;32m    325\u001b[0m \u001b[38;5;28;01mif\u001b[39;00m \u001b[38;5;28mlen\u001b[39m(args) \u001b[38;5;241m>\u001b[39m num_allow_args:\n\u001b[0;32m    326\u001b[0m     warnings\u001b[38;5;241m.\u001b[39mwarn(\n\u001b[0;32m    327\u001b[0m         msg\u001b[38;5;241m.\u001b[39mformat(arguments\u001b[38;5;241m=\u001b[39m_format_argument_list(allow_args)),\n\u001b[0;32m    328\u001b[0m         \u001b[38;5;167;01mFutureWarning\u001b[39;00m,\n\u001b[0;32m    329\u001b[0m         stacklevel\u001b[38;5;241m=\u001b[39mfind_stack_level(),\n\u001b[0;32m    330\u001b[0m     )\n\u001b[1;32m--> 331\u001b[0m \u001b[38;5;28;01mreturn\u001b[39;00m func(\u001b[38;5;241m*\u001b[39margs, \u001b[38;5;241m*\u001b[39m\u001b[38;5;241m*\u001b[39mkwargs)\n",
      "File \u001b[1;32m~\\anaconda3\\lib\\site-packages\\pandas\\core\\frame.py:5399\u001b[0m, in \u001b[0;36mDataFrame.drop\u001b[1;34m(self, labels, axis, index, columns, level, inplace, errors)\u001b[0m\n\u001b[0;32m   5251\u001b[0m \u001b[38;5;129m@deprecate_nonkeyword_arguments\u001b[39m(version\u001b[38;5;241m=\u001b[39m\u001b[38;5;28;01mNone\u001b[39;00m, allowed_args\u001b[38;5;241m=\u001b[39m[\u001b[38;5;124m\"\u001b[39m\u001b[38;5;124mself\u001b[39m\u001b[38;5;124m\"\u001b[39m, \u001b[38;5;124m\"\u001b[39m\u001b[38;5;124mlabels\u001b[39m\u001b[38;5;124m\"\u001b[39m])\n\u001b[0;32m   5252\u001b[0m \u001b[38;5;28;01mdef\u001b[39;00m \u001b[38;5;21mdrop\u001b[39m(  \u001b[38;5;66;03m# type: ignore[override]\u001b[39;00m\n\u001b[0;32m   5253\u001b[0m     \u001b[38;5;28mself\u001b[39m,\n\u001b[1;32m   (...)\u001b[0m\n\u001b[0;32m   5260\u001b[0m     errors: IgnoreRaise \u001b[38;5;241m=\u001b[39m \u001b[38;5;124m\"\u001b[39m\u001b[38;5;124mraise\u001b[39m\u001b[38;5;124m\"\u001b[39m,\n\u001b[0;32m   5261\u001b[0m ) \u001b[38;5;241m-\u001b[39m\u001b[38;5;241m>\u001b[39m DataFrame \u001b[38;5;241m|\u001b[39m \u001b[38;5;28;01mNone\u001b[39;00m:\n\u001b[0;32m   5262\u001b[0m     \u001b[38;5;124;03m\"\"\"\u001b[39;00m\n\u001b[0;32m   5263\u001b[0m \u001b[38;5;124;03m    Drop specified labels from rows or columns.\u001b[39;00m\n\u001b[0;32m   5264\u001b[0m \n\u001b[1;32m   (...)\u001b[0m\n\u001b[0;32m   5397\u001b[0m \u001b[38;5;124;03m            weight  1.0     0.8\u001b[39;00m\n\u001b[0;32m   5398\u001b[0m \u001b[38;5;124;03m    \"\"\"\u001b[39;00m\n\u001b[1;32m-> 5399\u001b[0m     \u001b[38;5;28;01mreturn\u001b[39;00m \u001b[38;5;28;43msuper\u001b[39;49m\u001b[43m(\u001b[49m\u001b[43m)\u001b[49m\u001b[38;5;241;43m.\u001b[39;49m\u001b[43mdrop\u001b[49m\u001b[43m(\u001b[49m\n\u001b[0;32m   5400\u001b[0m \u001b[43m        \u001b[49m\u001b[43mlabels\u001b[49m\u001b[38;5;241;43m=\u001b[39;49m\u001b[43mlabels\u001b[49m\u001b[43m,\u001b[49m\n\u001b[0;32m   5401\u001b[0m \u001b[43m        \u001b[49m\u001b[43maxis\u001b[49m\u001b[38;5;241;43m=\u001b[39;49m\u001b[43maxis\u001b[49m\u001b[43m,\u001b[49m\n\u001b[0;32m   5402\u001b[0m \u001b[43m        \u001b[49m\u001b[43mindex\u001b[49m\u001b[38;5;241;43m=\u001b[39;49m\u001b[43mindex\u001b[49m\u001b[43m,\u001b[49m\n\u001b[0;32m   5403\u001b[0m \u001b[43m        \u001b[49m\u001b[43mcolumns\u001b[49m\u001b[38;5;241;43m=\u001b[39;49m\u001b[43mcolumns\u001b[49m\u001b[43m,\u001b[49m\n\u001b[0;32m   5404\u001b[0m \u001b[43m        \u001b[49m\u001b[43mlevel\u001b[49m\u001b[38;5;241;43m=\u001b[39;49m\u001b[43mlevel\u001b[49m\u001b[43m,\u001b[49m\n\u001b[0;32m   5405\u001b[0m \u001b[43m        \u001b[49m\u001b[43minplace\u001b[49m\u001b[38;5;241;43m=\u001b[39;49m\u001b[43minplace\u001b[49m\u001b[43m,\u001b[49m\n\u001b[0;32m   5406\u001b[0m \u001b[43m        \u001b[49m\u001b[43merrors\u001b[49m\u001b[38;5;241;43m=\u001b[39;49m\u001b[43merrors\u001b[49m\u001b[43m,\u001b[49m\n\u001b[0;32m   5407\u001b[0m \u001b[43m    \u001b[49m\u001b[43m)\u001b[49m\n",
      "File \u001b[1;32m~\\anaconda3\\lib\\site-packages\\pandas\\util\\_decorators.py:331\u001b[0m, in \u001b[0;36mdeprecate_nonkeyword_arguments.<locals>.decorate.<locals>.wrapper\u001b[1;34m(*args, **kwargs)\u001b[0m\n\u001b[0;32m    325\u001b[0m \u001b[38;5;28;01mif\u001b[39;00m \u001b[38;5;28mlen\u001b[39m(args) \u001b[38;5;241m>\u001b[39m num_allow_args:\n\u001b[0;32m    326\u001b[0m     warnings\u001b[38;5;241m.\u001b[39mwarn(\n\u001b[0;32m    327\u001b[0m         msg\u001b[38;5;241m.\u001b[39mformat(arguments\u001b[38;5;241m=\u001b[39m_format_argument_list(allow_args)),\n\u001b[0;32m    328\u001b[0m         \u001b[38;5;167;01mFutureWarning\u001b[39;00m,\n\u001b[0;32m    329\u001b[0m         stacklevel\u001b[38;5;241m=\u001b[39mfind_stack_level(),\n\u001b[0;32m    330\u001b[0m     )\n\u001b[1;32m--> 331\u001b[0m \u001b[38;5;28;01mreturn\u001b[39;00m func(\u001b[38;5;241m*\u001b[39margs, \u001b[38;5;241m*\u001b[39m\u001b[38;5;241m*\u001b[39mkwargs)\n",
      "File \u001b[1;32m~\\anaconda3\\lib\\site-packages\\pandas\\core\\generic.py:4505\u001b[0m, in \u001b[0;36mNDFrame.drop\u001b[1;34m(self, labels, axis, index, columns, level, inplace, errors)\u001b[0m\n\u001b[0;32m   4503\u001b[0m \u001b[38;5;28;01mfor\u001b[39;00m axis, labels \u001b[38;5;129;01min\u001b[39;00m axes\u001b[38;5;241m.\u001b[39mitems():\n\u001b[0;32m   4504\u001b[0m     \u001b[38;5;28;01mif\u001b[39;00m labels \u001b[38;5;129;01mis\u001b[39;00m \u001b[38;5;129;01mnot\u001b[39;00m \u001b[38;5;28;01mNone\u001b[39;00m:\n\u001b[1;32m-> 4505\u001b[0m         obj \u001b[38;5;241m=\u001b[39m \u001b[43mobj\u001b[49m\u001b[38;5;241;43m.\u001b[39;49m\u001b[43m_drop_axis\u001b[49m\u001b[43m(\u001b[49m\u001b[43mlabels\u001b[49m\u001b[43m,\u001b[49m\u001b[43m \u001b[49m\u001b[43maxis\u001b[49m\u001b[43m,\u001b[49m\u001b[43m \u001b[49m\u001b[43mlevel\u001b[49m\u001b[38;5;241;43m=\u001b[39;49m\u001b[43mlevel\u001b[49m\u001b[43m,\u001b[49m\u001b[43m \u001b[49m\u001b[43merrors\u001b[49m\u001b[38;5;241;43m=\u001b[39;49m\u001b[43merrors\u001b[49m\u001b[43m)\u001b[49m\n\u001b[0;32m   4507\u001b[0m \u001b[38;5;28;01mif\u001b[39;00m inplace:\n\u001b[0;32m   4508\u001b[0m     \u001b[38;5;28mself\u001b[39m\u001b[38;5;241m.\u001b[39m_update_inplace(obj)\n",
      "File \u001b[1;32m~\\anaconda3\\lib\\site-packages\\pandas\\core\\generic.py:4546\u001b[0m, in \u001b[0;36mNDFrame._drop_axis\u001b[1;34m(self, labels, axis, level, errors, only_slice)\u001b[0m\n\u001b[0;32m   4544\u001b[0m         new_axis \u001b[38;5;241m=\u001b[39m axis\u001b[38;5;241m.\u001b[39mdrop(labels, level\u001b[38;5;241m=\u001b[39mlevel, errors\u001b[38;5;241m=\u001b[39merrors)\n\u001b[0;32m   4545\u001b[0m     \u001b[38;5;28;01melse\u001b[39;00m:\n\u001b[1;32m-> 4546\u001b[0m         new_axis \u001b[38;5;241m=\u001b[39m \u001b[43maxis\u001b[49m\u001b[38;5;241;43m.\u001b[39;49m\u001b[43mdrop\u001b[49m\u001b[43m(\u001b[49m\u001b[43mlabels\u001b[49m\u001b[43m,\u001b[49m\u001b[43m \u001b[49m\u001b[43merrors\u001b[49m\u001b[38;5;241;43m=\u001b[39;49m\u001b[43merrors\u001b[49m\u001b[43m)\u001b[49m\n\u001b[0;32m   4547\u001b[0m     indexer \u001b[38;5;241m=\u001b[39m axis\u001b[38;5;241m.\u001b[39mget_indexer(new_axis)\n\u001b[0;32m   4549\u001b[0m \u001b[38;5;66;03m# Case for non-unique axis\u001b[39;00m\n\u001b[0;32m   4550\u001b[0m \u001b[38;5;28;01melse\u001b[39;00m:\n",
      "File \u001b[1;32m~\\anaconda3\\lib\\site-packages\\pandas\\core\\indexes\\base.py:6934\u001b[0m, in \u001b[0;36mIndex.drop\u001b[1;34m(self, labels, errors)\u001b[0m\n\u001b[0;32m   6932\u001b[0m \u001b[38;5;28;01mif\u001b[39;00m mask\u001b[38;5;241m.\u001b[39many():\n\u001b[0;32m   6933\u001b[0m     \u001b[38;5;28;01mif\u001b[39;00m errors \u001b[38;5;241m!=\u001b[39m \u001b[38;5;124m\"\u001b[39m\u001b[38;5;124mignore\u001b[39m\u001b[38;5;124m\"\u001b[39m:\n\u001b[1;32m-> 6934\u001b[0m         \u001b[38;5;28;01mraise\u001b[39;00m \u001b[38;5;167;01mKeyError\u001b[39;00m(\u001b[38;5;124mf\u001b[39m\u001b[38;5;124m\"\u001b[39m\u001b[38;5;132;01m{\u001b[39;00m\u001b[38;5;28mlist\u001b[39m(labels[mask])\u001b[38;5;132;01m}\u001b[39;00m\u001b[38;5;124m not found in axis\u001b[39m\u001b[38;5;124m\"\u001b[39m)\n\u001b[0;32m   6935\u001b[0m     indexer \u001b[38;5;241m=\u001b[39m indexer[\u001b[38;5;241m~\u001b[39mmask]\n\u001b[0;32m   6936\u001b[0m \u001b[38;5;28;01mreturn\u001b[39;00m \u001b[38;5;28mself\u001b[39m\u001b[38;5;241m.\u001b[39mdelete(indexer)\n",
      "\u001b[1;31mKeyError\u001b[0m: \"['Enough Reviews'] not found in axis\""
     ]
    }
   ],
   "source": [
    "from sklearn import preprocessing\n",
    "features = df.drop(columns='Enough Reviews')\n",
    "X = pd.get_dummies(features, columns=['Place type','Price','Region','Delivery option','Dine in option','Takeout option'])\n",
    "df['Enough Reviews'] = df['Enough Reviews'].replace({True:1,False:0})\n",
    "y = df['Enough Reviews'] "
   ]
  },
  {
   "cell_type": "markdown",
   "id": "3ff39fc7-ebca-45c8-bd7e-a87443d6cd2c",
   "metadata": {
    "tags": []
   },
   "source": [
    "## Model Fitting\n",
    "\n",
    "Predicting whether a newly opened coffee shop can get over 450 reviews is a binary **classification problem** in machine learning. I am choosing the **Logistic Regression model** as a baseline model because it is very efficient to train and interpret. The comparison model I am choosing is the **Decision Tree model** because it works well with mixed data type and is less influenced by outliers."
   ]
  },
  {
   "cell_type": "code",
   "execution_count": 14,
   "id": "6aa6241e-7319-415b-9349-ab2c527642e4",
   "metadata": {
    "executionTime": 0,
    "jupyter": {
     "outputs_hidden": false,
     "source_hidden": false
    },
    "lastSuccessfullyExecutedCode": "#import ML models and peformance metrics\nfrom sklearn.linear_model import LogisticRegression \nfrom sklearn.tree import DecisionTreeClassifier \nfrom sklearn.model_selection import train_test_split \nfrom sklearn.metrics import classification_report\nfrom sklearn.metrics import confusion_matrix "
   },
   "outputs": [],
   "source": [
    "#import ML models and peformance metrics\n",
    "from sklearn.linear_model import LogisticRegression \n",
    "from sklearn.tree import DecisionTreeClassifier \n",
    "from sklearn.model_selection import train_test_split \n",
    "from sklearn.metrics import classification_report\n",
    "from sklearn.metrics import confusion_matrix "
   ]
  },
  {
   "cell_type": "code",
   "execution_count": 15,
   "id": "e7295fd1-d00b-456a-96f1-2ac2a78af4a9",
   "metadata": {
    "executionTime": 0,
    "jupyter": {
     "outputs_hidden": false,
     "source_hidden": false
    },
    "lastSuccessfullyExecutedCode": "# Split dataset into 70% training set and 30% test set\nX_train, X_test, y_train, y_test = train_test_split(X, y, test_size=0.3, random_state=123)"
   },
   "outputs": [
    {
     "ename": "NameError",
     "evalue": "name 'X' is not defined",
     "output_type": "error",
     "traceback": [
      "\u001b[1;31m---------------------------------------------------------------------------\u001b[0m",
      "\u001b[1;31mNameError\u001b[0m                                 Traceback (most recent call last)",
      "Cell \u001b[1;32mIn[15], line 2\u001b[0m\n\u001b[0;32m      1\u001b[0m \u001b[38;5;66;03m# Split dataset into 70% training set and 30% test set\u001b[39;00m\n\u001b[1;32m----> 2\u001b[0m X_train, X_test, y_train, y_test \u001b[38;5;241m=\u001b[39m train_test_split(\u001b[43mX\u001b[49m, y, test_size\u001b[38;5;241m=\u001b[39m\u001b[38;5;241m0.3\u001b[39m, random_state\u001b[38;5;241m=\u001b[39m\u001b[38;5;241m123\u001b[39m)\n",
      "\u001b[1;31mNameError\u001b[0m: name 'X' is not defined"
     ]
    }
   ],
   "source": [
    "# Split dataset into 70% training set and 30% test set\n",
    "X_train, X_test, y_train, y_test = train_test_split(X, y, test_size=0.3, random_state=123)"
   ]
  },
  {
   "cell_type": "markdown",
   "id": "ee660986-0628-44c2-8cde-0a788e1b6337",
   "metadata": {},
   "source": [
    "### Method 1: Logistic Regression Model"
   ]
  },
  {
   "cell_type": "code",
   "execution_count": null,
   "id": "dfff4364-8695-4f37-9473-58263939c634",
   "metadata": {
    "executionTime": 0,
    "lastSuccessfullyExecutedCode": "logreg = LogisticRegression()\nlogreg.fit(X_train,y_train)\ny_pred_log =logreg.predict(X_test)"
   },
   "outputs": [],
   "source": [
    "logreg = LogisticRegression()\n",
    "logreg.fit(X_train,y_train)\n",
    "y_pred_log =logreg.predict(X_test)"
   ]
  },
  {
   "cell_type": "markdown",
   "id": "17e7cbae-23c0-4056-a59e-c27358641e5a",
   "metadata": {},
   "source": [
    "### Method 2: Decision Tree Model"
   ]
  },
  {
   "cell_type": "code",
   "execution_count": null,
   "id": "029aac41-3880-4884-8051-f60859584c85",
   "metadata": {
    "executionTime": 0,
    "jupyter": {
     "outputs_hidden": false,
     "source_hidden": false
    },
    "lastSuccessfullyExecutedCode": "# Create Decision Tree classifer object\nclf = DecisionTreeClassifier()\nclf = clf.fit(X_train,y_train)\ny_pred_clf = clf.predict(X_test)"
   },
   "outputs": [],
   "source": [
    "# Create Decision Tree classifer object\n",
    "clf = DecisionTreeClassifier()\n",
    "clf = clf.fit(X_train,y_train)\n",
    "y_pred_clf = clf.predict(X_test)"
   ]
  },
  {
   "cell_type": "markdown",
   "id": "3879c71b-3a44-490c-8e48-9d40d9e7c0d9",
   "metadata": {
    "jp-MarkdownHeadingCollapsed": true,
    "tags": []
   },
   "source": [
    "## Model Evaluation\n",
    "\n",
    "I am choosing **accuracy** to evaluate the model because they are easy to interpret. Accuracy focuses on correct predictions of all predictions. \n",
    "\n",
    "The accuracy of the Logistic Regression model and Decision Tree model is 0.70 and 0.60, meaning the Logistic Regression model predicts more correctly whether a new coffee shop can get enough number of reviews after one year. \n",
    "\n",
    "From this metric, we can conclude that the **Logistic Regression model** has a higher chance of that prediction being correct.\n"
   ]
  },
  {
   "cell_type": "markdown",
   "id": "fb17b875-538e-48cf-841d-e81756966079",
   "metadata": {},
   "source": [
    "### Evaluating Logistic Regression Model"
   ]
  },
  {
   "cell_type": "code",
   "execution_count": null,
   "id": "3aaaf8bb-c631-41e6-bcf4-62f38802e37a",
   "metadata": {
    "executionTime": 0,
    "jupyter": {
     "outputs_hidden": false,
     "source_hidden": false
    },
    "lastSuccessfullyExecutedCode": "print(classification_report(y_test, y_pred_log))"
   },
   "outputs": [],
   "source": [
    "print(classification_report(y_test, y_pred_log))"
   ]
  },
  {
   "cell_type": "markdown",
   "id": "353052d9-4d14-4fe9-8034-c386182adac2",
   "metadata": {},
   "source": [
    "### Evaluating Decision Tree Model"
   ]
  },
  {
   "cell_type": "code",
   "execution_count": null,
   "id": "f7d316a3-4204-4ba4-8a32-e52136e75431",
   "metadata": {
    "executionTime": 15,
    "lastSuccessfullyExecutedCode": "print(classification_report(y_test, y_pred_clf))"
   },
   "outputs": [],
   "source": [
    "print(classification_report(y_test, y_pred_clf))"
   ]
  },
  {
   "cell_type": "markdown",
   "id": "e88f361e-d4f7-45d9-8c85-3c15a4d3746d",
   "metadata": {
    "tags": []
   },
   "source": [
    "## ✅ When you have finished...\n",
    "- Publish your Workspace using the option on the left\n",
    "- Check the published version of your report:\n",
    "\t- Can you see everything you want us to grade?\n",
    "    - Are all the graphics visible?\n",
    "- Review the grading rubric. Have you included everything that will be graded?\n",
    "- Head back to the [Certification Dashboard](https://app.datacamp.com/certification) to submit your practical exam"
   ]
  },
  {
   "cell_type": "code",
   "execution_count": null,
   "id": "b80bc515",
   "metadata": {},
   "outputs": [],
   "source": []
  },
  {
   "cell_type": "code",
   "execution_count": null,
   "id": "491b072e",
   "metadata": {},
   "outputs": [],
   "source": []
  },
  {
   "cell_type": "code",
   "execution_count": null,
   "id": "70a59664",
   "metadata": {},
   "outputs": [],
   "source": []
  },
  {
   "cell_type": "code",
   "execution_count": null,
   "id": "54a88856",
   "metadata": {},
   "outputs": [],
   "source": []
  },
  {
   "cell_type": "code",
   "execution_count": null,
   "id": "6d5db6cd",
   "metadata": {},
   "outputs": [],
   "source": []
  },
  {
   "cell_type": "code",
   "execution_count": null,
   "id": "4e4fadfb",
   "metadata": {},
   "outputs": [],
   "source": []
  },
  {
   "cell_type": "code",
   "execution_count": null,
   "id": "fdfd35c0",
   "metadata": {},
   "outputs": [],
   "source": []
  },
  {
   "cell_type": "code",
   "execution_count": null,
   "id": "0263be00",
   "metadata": {},
   "outputs": [],
   "source": []
  },
  {
   "cell_type": "code",
   "execution_count": null,
   "id": "07f01e66",
   "metadata": {},
   "outputs": [],
   "source": []
  },
  {
   "cell_type": "code",
   "execution_count": null,
   "id": "1419cd4e",
   "metadata": {},
   "outputs": [],
   "source": []
  },
  {
   "cell_type": "code",
   "execution_count": null,
   "id": "e5eec334",
   "metadata": {},
   "outputs": [],
   "source": []
  },
  {
   "cell_type": "code",
   "execution_count": null,
   "id": "e646f7c7",
   "metadata": {},
   "outputs": [],
   "source": []
  },
  {
   "cell_type": "code",
   "execution_count": null,
   "id": "32a7c2f5",
   "metadata": {},
   "outputs": [],
   "source": []
  }
 ],
 "metadata": {
  "editor": "DataCamp Workspace",
  "kernelspec": {
   "display_name": "Python 3 (ipykernel)",
   "language": "python",
   "name": "python3"
  },
  "language_info": {
   "codemirror_mode": {
    "name": "ipython",
    "version": 3
   },
   "file_extension": ".py",
   "mimetype": "text/x-python",
   "name": "python",
   "nbconvert_exporter": "python",
   "pygments_lexer": "ipython3",
   "version": "3.10.9"
  }
 },
 "nbformat": 4,
 "nbformat_minor": 5
}
